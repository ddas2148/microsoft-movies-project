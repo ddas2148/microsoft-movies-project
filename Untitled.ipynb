{
 "cells": [
  {
   "cell_type": "code",
   "execution_count": 1,
   "metadata": {},
   "outputs": [],
   "source": []
  },
  {
   "cell_type": "code",
   "execution_count": null,
   "metadata": {},
   "outputs": [],
   "source": []
  },
  {
   "cell_type": "code",
   "execution_count": null,
   "metadata": {},
   "outputs": [],
   "source": []
  },
  {
   "cell_type": "markdown",
   "metadata": {},
   "source": [
    "# # microsoft-movies-project\n",
    " \n",
    "This repo contains about microsoft Movie Project! Each of these is in a separate branch as explained below.\n",
    "-base working material is all the data and saved worked dataset! myself to go back look how i have progressed through!\n",
    "\n",
    "-Images folder all the saved image and visualisation which i have credted and used for this project!\n",
    "\n",
    "-zippedData is a folder of all the data set i have used for this project\n",
    "\n",
    "-.gitignore can be ignored\n",
    "\n",
    "-license.md is about licenseing\n",
    "\n",
    "-Microsoft movie analysis.pdf is a non technical presentation\n",
    "\n",
    "-final_movie.ipynb file is my working through data in the jupyter notebook \n",
    "\n",
    " Project Summary\n",
    "Descriptive analysis of Microsoft Movie making project! After detailed analytics in to given data set I found out below findings-\n",
    "-\tWhat type (genres) is current trend\n",
    "-\tAverage ratings\n",
    "-\tMovie runtimes\n",
    "\n",
    "\n",
    "Outline\n",
    "-Business Problem\n",
    "-Data and Method\n",
    "-Results with visualisation\n",
    "-Conclusions\n",
    "\n",
    "\n",
    "Business Problem:\n",
    "Microsoft sees all the big companies creating original video content and they want to get in on the fun. They have decided to create a new movie studio, but they don’t know anything about creating movies. Exploring what types of films are currently doing the best at the box office. Translate those findings into actionable insights that the head of Microsoft's new movie studio can use to help decide what type of films to create.\n",
    "\n",
    "Data & Method:\n",
    "I have understood all the data set, cleaned dataset, and then used exploratory data analysis method to find below results:\n",
    " \n",
    "\n",
    "Results/ recommendation:\n",
    "After looking at above findings below are the recommendation:\n",
    "1)\tIt is better to create a movie with mixed genres with high ratings and voting rate \n",
    "2)\t Adventure, animation, comedy and drama could be a good mix\n",
    "3)\tAlways need more attention for voting and good ratings\n",
    "4)\tMedian budget and movie runtime have around 100mins are got better ratings\n",
    "\n",
    "Conclusion:\n",
    "Limitation: current data set does not have any data after 2018 whereas unable identify current movie trend. \n",
    "If we can predict other different channel like Netflix, Binge, Amazon prime and launch into their it could reach more people and have different impact!\n",
    "\n",
    "Thank You\n",
    "Regards\n",
    "Dipak Das\n",
    "Email= Dipak.janina@gmail\n",
    "GitHub= https://github.com/ddas2148\n",
    "\n",
    "\n",
    "\n",
    "\n",
    "\n",
    "\n",
    "\n",
    "\n",
    "\n"
   ]
  }
 ],
 "metadata": {
  "kernelspec": {
   "display_name": "Python (learn-env)",
   "language": "python",
   "name": "learn-env"
  },
  "language_info": {
   "codemirror_mode": {
    "name": "ipython",
    "version": 3
   },
   "file_extension": ".py",
   "mimetype": "text/x-python",
   "name": "python",
   "nbconvert_exporter": "python",
   "pygments_lexer": "ipython3",
   "version": "3.8.5"
  }
 },
 "nbformat": 4,
 "nbformat_minor": 4
}
